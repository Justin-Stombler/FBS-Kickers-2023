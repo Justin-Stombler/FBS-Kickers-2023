{
 "cells": [
  {
   "cell_type": "code",
   "execution_count": 1,
   "metadata": {},
   "outputs": [],
   "source": [
    "import pandas as pd\n",
    "import numpy as np"
   ]
  },
  {
   "cell_type": "markdown",
   "metadata": {},
   "source": [
    "Removing unneeded Columns"
   ]
  },
  {
   "cell_type": "code",
   "execution_count": 2,
   "metadata": {},
   "outputs": [],
   "source": [
    "kick_data = pd.read_csv('Kicking Stats.csv', delimiter=';')\n",
    "\n",
    "kick_data = kick_data.drop(['RK', 'POS', 'FG%', 'PCT'],axis=1)"
   ]
  },
  {
   "cell_type": "markdown",
   "metadata": {},
   "source": [
    "Splitting Miss/Makes into split integers"
   ]
  },
  {
   "cell_type": "code",
   "execution_count": 3,
   "metadata": {},
   "outputs": [],
   "source": [
    "kick_data[['1-19M', '1-19A']] = kick_data['1-19'].str.split('-', expand=True).astype(int)\n",
    "kick_data[['20-29M', '20-29A']] = kick_data['20-29'].str.split('-', expand=True).astype(int)\n",
    "kick_data[['30-39M', '30-39A']] = kick_data['30-39'].str.split('-', expand=True).astype(int)\n",
    "kick_data[['40-49M', '40-49A']] = kick_data['40-49'].str.split('-', expand=True).astype(int)\n",
    "kick_data[['50+M', '50+A']] = kick_data['50+'].str.split('-', expand=True).astype(int)"
   ]
  },
  {
   "cell_type": "markdown",
   "metadata": {},
   "source": [
    "Drop original miss/make columns"
   ]
  },
  {
   "cell_type": "code",
   "execution_count": 4,
   "metadata": {},
   "outputs": [],
   "source": [
    "kick_data.drop(['1-19', '20-29', '30-39', '40-49', '50+'], axis=1, inplace=True)"
   ]
  },
  {
   "cell_type": "code",
   "execution_count": 5,
   "metadata": {},
   "outputs": [
    {
     "data": {
      "text/plain": [
       "NAME      object\n",
       "TEAM      object\n",
       "FGM        int64\n",
       "FGA        int64\n",
       "LNG        int64\n",
       "XPM        int64\n",
       "XPA        int64\n",
       "1-19M      int64\n",
       "1-19A      int64\n",
       "20-29M     int64\n",
       "20-29A     int64\n",
       "30-39M     int64\n",
       "30-39A     int64\n",
       "40-49M     int64\n",
       "40-49A     int64\n",
       "50+M       int64\n",
       "50+A       int64\n",
       "dtype: object"
      ]
     },
     "execution_count": 5,
     "metadata": {},
     "output_type": "execute_result"
    }
   ],
   "source": [
    "kick_data.dtypes"
   ]
  },
  {
   "cell_type": "markdown",
   "metadata": {},
   "source": [
    "Checking consistently - do total FGA/FGM makes equal the sum of of all yardage FGA/FGM?"
   ]
  },
  {
   "cell_type": "code",
   "execution_count": 6,
   "metadata": {},
   "outputs": [],
   "source": [
    "#Summing all Make Columns (XP excluded)\n",
    "make_cols = ['1-19M', '20-29M', '30-39M', '40-49M', '50+M']\n",
    "\n",
    "make_count = 0\n",
    "\n",
    "for i in make_cols:\n",
    "    make_count = make_count + kick_data[i]\n",
    "    \n",
    "kick_data['Total M'] = make_count"
   ]
  },
  {
   "cell_type": "code",
   "execution_count": 7,
   "metadata": {},
   "outputs": [],
   "source": [
    "#Summing all Attempt Columns (XP excluded)\n",
    "att_cols = ['1-19A', '20-29A', '30-39A', '40-49A', '50+A']\n",
    "\n",
    "att_count = 0\n",
    "\n",
    "for i in att_cols:\n",
    "    att_count = att_count + kick_data[i]\n",
    "\n",
    "kick_data['Total A'] = att_count"
   ]
  },
  {
   "cell_type": "code",
   "execution_count": 8,
   "metadata": {},
   "outputs": [],
   "source": [
    "#Adding Boolean Columns to see if sums match\n",
    "kick_data['Make Sum Boolean'] = (kick_data['FGM'] == kick_data['Total M'])\n",
    "kick_data['Attempt Sum Boolean'] = (kick_data['FGA'] == kick_data['Total A'])\n",
    "\n",
    "##Had some Falses, going to fix values in Excel since small QTY"
   ]
  },
  {
   "cell_type": "markdown",
   "metadata": {},
   "source": [
    "Now to output the updated DataFrame as the one that will be used in the Kicker Value file this go around"
   ]
  },
  {
   "cell_type": "code",
   "execution_count": 10,
   "metadata": {},
   "outputs": [],
   "source": [
    "##Only taking import columns\n",
    "##Customizing orders as well\n",
    "\n",
    "kick_data = kick_data[['NAME', 'TEAM', \n",
    "                       'XPM', 'XPA', \n",
    "                       '1-19M', '1-19A', \n",
    "                       '20-29M', '20-29A', \n",
    "                       '30-39M', '30-39A', \n",
    "                       '40-49M', '40-49A', \n",
    "                       '50+M', '50+A', \n",
    "                       'FGM', 'FGA', \n",
    "                       'LNG']]"
   ]
  },
  {
   "cell_type": "code",
   "execution_count": 11,
   "metadata": {},
   "outputs": [],
   "source": [
    "##Exporting to be used in Kicker Value 2023\n",
    "\n",
    "kick_data.to_csv('Formatted Kicker Stats.csv')"
   ]
  },
  {
   "cell_type": "markdown",
   "metadata": {},
   "source": []
  }
 ],
 "metadata": {
  "kernelspec": {
   "display_name": ".venv",
   "language": "python",
   "name": "python3"
  },
  "language_info": {
   "codemirror_mode": {
    "name": "ipython",
    "version": 3
   },
   "file_extension": ".py",
   "mimetype": "text/x-python",
   "name": "python",
   "nbconvert_exporter": "python",
   "pygments_lexer": "ipython3",
   "version": "3.11.5"
  },
  "orig_nbformat": 4
 },
 "nbformat": 4,
 "nbformat_minor": 2
}
